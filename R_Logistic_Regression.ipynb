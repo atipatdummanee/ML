{
  "cells": [
    {
      "cell_type": "markdown",
      "metadata": {
        "id": "view-in-github",
        "colab_type": "text"
      },
      "source": [
        "<a href=\"https://colab.research.google.com/github/atipatdummanee/ML/blob/main/R_Logistic_Regression.ipynb\" target=\"_parent\"><img src=\"https://colab.research.google.com/assets/colab-badge.svg\" alt=\"Open In Colab\"/></a>"
      ]
    },
    {
      "cell_type": "code",
      "execution_count": 1,
      "metadata": {
        "colab": {
          "base_uri": "https://localhost:8080/"
        },
        "id": "cKCG79DKfo32",
        "outputId": "bc1e33a6-ed67-44ed-b340-aad12e8f7a3e"
      },
      "outputs": [
        {
          "output_type": "stream",
          "name": "stderr",
          "text": [
            "Installing package into ‘/usr/local/lib/R/site-library’\n",
            "(as ‘lib’ is unspecified)\n",
            "\n",
            "Installing package into ‘/usr/local/lib/R/site-library’\n",
            "(as ‘lib’ is unspecified)\n",
            "\n",
            "Installing package into ‘/usr/local/lib/R/site-library’\n",
            "(as ‘lib’ is unspecified)\n",
            "\n",
            "also installing the dependencies ‘listenv’, ‘parallelly’, ‘future’, ‘globals’, ‘warp’, ‘furrr’, ‘slider’\n",
            "\n",
            "\n",
            "Installing package into ‘/usr/local/lib/R/site-library’\n",
            "(as ‘lib’ is unspecified)\n",
            "\n",
            "also installing the dependencies ‘shape’, ‘future.apply’, ‘numDeriv’, ‘progressr’, ‘SQUAREM’, ‘diagram’, ‘lava’, ‘prodlim’, ‘proxy’, ‘iterators’, ‘Rcpp’, ‘clock’, ‘gower’, ‘hardhat’, ‘ipred’, ‘timeDate’, ‘e1071’, ‘foreach’, ‘ModelMetrics’, ‘plyr’, ‘pROC’, ‘recipes’, ‘reshape2’\n",
            "\n",
            "\n",
            "Installing package into ‘/usr/local/lib/R/site-library’\n",
            "(as ‘lib’ is unspecified)\n",
            "\n",
            "also installing the dependency ‘yardstick’\n",
            "\n",
            "\n",
            "Installing package into ‘/usr/local/lib/R/site-library’\n",
            "(as ‘lib’ is unspecified)\n",
            "\n"
          ]
        }
      ],
      "source": [
        "install.packages(\"dplyr\")\n",
        "install.packages(\"ggplot2\")\n",
        "install.packages(\"rsample\")\n",
        "install.packages(\"caret\")\n",
        "install.packages(\"vip\")\n",
        "install.packages(\"modeldata\")"
      ]
    },
    {
      "cell_type": "code",
      "execution_count": 2,
      "metadata": {
        "colab": {
          "base_uri": "https://localhost:8080/"
        },
        "id": "ltzbzdUxinFN",
        "outputId": "37ca8bbe-8e02-4c45-eb9b-996446452bfb"
      },
      "outputs": [
        {
          "output_type": "stream",
          "name": "stderr",
          "text": [
            "Installing package into ‘/usr/local/lib/R/site-library’\n",
            "(as ‘lib’ is unspecified)\n",
            "\n"
          ]
        }
      ],
      "source": [
        "install.packages(\"modeldata\")"
      ]
    },
    {
      "cell_type": "code",
      "execution_count": 3,
      "metadata": {
        "colab": {
          "base_uri": "https://localhost:8080/"
        },
        "id": "Zs1Vc5ubkC2m",
        "outputId": "5af7ab24-c30f-4c5c-e554-b61acb426fae"
      },
      "outputs": [
        {
          "output_type": "stream",
          "name": "stderr",
          "text": [
            "\n",
            "Attaching package: ‘dplyr’\n",
            "\n",
            "\n",
            "The following objects are masked from ‘package:stats’:\n",
            "\n",
            "    filter, lag\n",
            "\n",
            "\n",
            "The following objects are masked from ‘package:base’:\n",
            "\n",
            "    intersect, setdiff, setequal, union\n",
            "\n",
            "\n",
            "Loading required package: lattice\n",
            "\n",
            "\n",
            "Attaching package: ‘vip’\n",
            "\n",
            "\n",
            "The following object is masked from ‘package:utils’:\n",
            "\n",
            "    vi\n",
            "\n",
            "\n"
          ]
        }
      ],
      "source": [
        "# Helper packages\n",
        "library(dplyr)     # for data wrangling\n",
        "library(ggplot2)   # for awesome plotting\n",
        "library(rsample)   # for data splitting\n",
        "\n",
        "# Modeling packages\n",
        "library(caret)     # for logistic regression modeling\n",
        "\n",
        "# Model interpretability packages\n",
        "library(vip)       # variable importance"
      ]
    },
    {
      "cell_type": "code",
      "execution_count": 4,
      "metadata": {
        "colab": {
          "base_uri": "https://localhost:8080/",
          "height": 194
        },
        "id": "ULE8vbIckCzV",
        "outputId": "0db60715-5142-4188-e0c7-41acf80502e6"
      },
      "outputs": [
        {
          "output_type": "error",
          "ename": "ERROR",
          "evalue": "ignored",
          "traceback": [
            "Error in eval(expr, envir, enclos): object 'attrition' not found\nTraceback:\n",
            "1. attrition %>% mutate_if(is.ordered, factor, ordered = FALSE)",
            "2. mutate_if(., is.ordered, factor, ordered = FALSE)",
            "3. check_grouped(.tbl, \"mutate\", \"if\")",
            "4. is_grouped_df(tbl)"
          ]
        }
      ],
      "source": [
        "df <- attrition %>% mutate_if(is.ordered, factor, ordered = FALSE)\n",
        "# Create training (70%) and test (30%) sets for the\n",
        "# rsample::attrition data.\n",
        "set.seed(123)  # for reproducibility\n",
        "churn_split <- initial_split(df, prop = .7, strata = \"Attrition\")\n",
        "churn_train <- training(churn_split)\n",
        "churn_test  <- testing(churn_split)"
      ]
    },
    {
      "cell_type": "code",
      "execution_count": null,
      "metadata": {
        "id": "iR7WQs13kCwE"
      },
      "outputs": [],
      "source": [
        "model1 <- glm(Attrition ~ MonthlyIncome, family = \"binomial\", data = churn_train)\n",
        "model2 <- glm(Attrition ~ OverTime, family = \"binomial\", data = churn_train)"
      ]
    },
    {
      "cell_type": "code",
      "execution_count": null,
      "metadata": {
        "id": "sbQZpfv9kCbM"
      },
      "outputs": [],
      "source": [
        "summary(model1)"
      ]
    },
    {
      "cell_type": "code",
      "source": [
        "summary(model2)"
      ],
      "metadata": {
        "id": "rhEEXhJdt7V0"
      },
      "execution_count": null,
      "outputs": []
    },
    {
      "cell_type": "code",
      "source": [
        "exp(coef(model1))"
      ],
      "metadata": {
        "id": "JYPd6dAkt9IL"
      },
      "execution_count": null,
      "outputs": []
    },
    {
      "cell_type": "code",
      "source": [
        "exp(coef(model2))"
      ],
      "metadata": {
        "id": "GdVQrEIjt94L"
      },
      "execution_count": null,
      "outputs": []
    },
    {
      "cell_type": "code",
      "source": [
        "confint(model1)"
      ],
      "metadata": {
        "id": "u_d6JK11uAKj"
      },
      "execution_count": null,
      "outputs": []
    },
    {
      "cell_type": "code",
      "source": [
        "confint(model2)#ค่าความเชื่อมั่น คือ"
      ],
      "metadata": {
        "id": "bbgWs_tOuB9c"
      },
      "execution_count": null,
      "outputs": []
    },
    {
      "cell_type": "code",
      "source": [
        "model3 <- glm(\n",
        "  Attrition ~ MonthlyIncome + OverTime,\n",
        "  family = \"binomial\",\n",
        "  data = churn_train\n",
        "  )"
      ],
      "metadata": {
        "id": "6689BMNNuD2r"
      },
      "execution_count": null,
      "outputs": []
    },
    {
      "cell_type": "code",
      "source": [
        "summary(model3)"
      ],
      "metadata": {
        "id": "hy4F51PcuF27"
      },
      "execution_count": null,
      "outputs": []
    },
    {
      "cell_type": "code",
      "source": [
        "set.seed(123)\n",
        "cv_model1 <- train(\n",
        "  Attrition ~ MonthlyIncome,\n",
        "  data = churn_train,\n",
        "  method = \"glm\",\n",
        "  family = \"binomial\",\n",
        "  trControl = trainControl(method = \"cv\", number = 10)\n",
        ")\n",
        "\n",
        "set.seed(123)\n",
        "cv_model2 <- train(\n",
        "  Attrition ~ MonthlyIncome + OverTime,\n",
        "  data = churn_train,\n",
        "  method = \"glm\",\n",
        "  family = \"binomial\",\n",
        "  trControl = trainControl(method = \"cv\", number = 10)\n",
        ")\n",
        "\n",
        "set.seed(123)\n",
        "cv_model3 <- train(\n",
        "  Attrition ~ .,\n",
        "  data = churn_train,\n",
        "  method = \"glm\",\n",
        "  family = \"binomial\",\n",
        "  trControl = trainControl(method = \"cv\", number = 10)\n",
        ")\n",
        "\n",
        "# extract out of sample performance measures\n",
        "summary(\n",
        "  resamples(\n",
        "    list(\n",
        "      model1 = cv_model1,\n",
        "      model2 = cv_model2,\n",
        "      model3 = cv_model3\n",
        "    )\n",
        "  )\n",
        ")$statistics$Accuracy"
      ],
      "metadata": {
        "id": "Gkw5HUDHuH3s"
      },
      "execution_count": null,
      "outputs": []
    },
    {
      "cell_type": "code",
      "source": [
        "pred_class <- predict(cv_model3, churn_train)\n",
        "\n",
        "# create confusion matrix\n",
        "confusionMatrix(\n",
        "  data = relevel(pred_class, ref = \"Yes\"),\n",
        "  reference = relevel(churn_train$Attrition, ref = \"Yes\")\n",
        ")\n",
        "## Confusion Matrix and Statistics\n",
        "##\n",
        "##           Reference\n",
        "## Prediction Yes  No\n",
        "##        Yes  93  25\n",
        "##        No   73 839\n",
        "##\n",
        "##                Accuracy : 0.9049\n",
        "##                  95% CI : (0.8853, 0.9221)\n",
        "##     No Information Rate : 0.8388\n",
        "##     P-Value [Acc > NIR] : 5.360e-10\n",
        "##\n",
        "##                   Kappa : 0.6016\n",
        "##\n",
        "##  Mcnemar's Test P-Value : 2.057e-06\n",
        "##\n",
        "##             Sensitivity : 0.56024\n",
        "##             Specificity : 0.97106\n",
        "##          Pos Pred Value : 0.78814\n",
        "##          Neg Pred Value : 0.91996\n",
        "##              Prevalence : 0.16117\n",
        "##          Detection Rate : 0.09029\n",
        "##    Detection Prevalence : 0.11456\n",
        "##       Balanced Accuracy : 0.76565\n",
        "##\n",
        "##        'Positive' Class : Yes\n",
        "##"
      ],
      "metadata": {
        "id": "xjhH3SV7uKfj"
      },
      "execution_count": null,
      "outputs": []
    },
    {
      "cell_type": "code",
      "source": [
        "install.packages(\"ROCR\")"
      ],
      "metadata": {
        "id": "VctlWWJxuMj8"
      },
      "execution_count": null,
      "outputs": []
    },
    {
      "cell_type": "code",
      "source": [
        "library(ROCR)"
      ],
      "metadata": {
        "id": "1bh1EwLvuOnk"
      },
      "execution_count": null,
      "outputs": []
    },
    {
      "cell_type": "code",
      "source": [
        "# Compute predicted probabilities\n",
        "m1_prob <- predict(cv_model1, churn_train, type = \"prob\")$Yes\n",
        "m3_prob <- predict(cv_model3, churn_train, type = \"prob\")$Yes\n",
        "\n",
        "# Compute AUC metrics for cv_model1 and cv_model3\n",
        "perf1 <- prediction(m1_prob, churn_train$Attrition) %>%\n",
        "  performance(measure = \"tpr\", x.measure = \"fpr\")\n",
        "perf2 <- prediction(m3_prob, churn_train$Attrition) %>%\n",
        "  performance(measure = \"tpr\", x.measure = \"fpr\")\n",
        "\n",
        "# Plot ROC curves for cv_model1 and cv_model3\n",
        "plot(perf1, col = \"black\", lty = 2)\n",
        "plot(perf2, add = TRUE, col = \"blue\")\n",
        "legend(0.8, 0.2, legend = c(\"cv_model1\", \"cv_model3\"),\n",
        "       col = c(\"black\", \"blue\"), lty = 2:1, cex = 0.6)"
      ],
      "metadata": {
        "id": "BHGOeQ5cuRmj"
      },
      "execution_count": null,
      "outputs": []
    },
    {
      "cell_type": "code",
      "source": [
        "# Perform 10-fold CV on a PLS model tuning the number of PCs to\n",
        "# use as predictors\n",
        "set.seed(123)\n",
        "cv_model_pls <- train(\n",
        "  Attrition ~ .,\n",
        "  data = churn_train,\n",
        "  method = \"pls\",\n",
        "  family = \"binomial\",\n",
        "  trControl = trainControl(method = \"cv\", number = 10),\n",
        "  preProcess = c(\"zv\", \"center\", \"scale\"),\n",
        "  tuneLength = 16\n",
        ")\n",
        "\n",
        "# Model with lowest RMSE\n",
        "cv_model_pls$bestTune\n",
        "##    ncomp\n",
        "## 14    14\n",
        "\n",
        "# results for model with lowest loss\n",
        "cv_model_pls$results %>%\n",
        "  dplyr::filter(ncomp == pull(cv_model_pls$bestTune))\n",
        "##   ncomp  Accuracy     Kappa AccuracySD   KappaSD\n",
        "## 1    14 0.8757518 0.3766944 0.01919777 0.1142592\n",
        "\n",
        "# Plot cross-validated RMSE\n",
        "ggplot(cv_model_pls)"
      ],
      "metadata": {
        "id": "iVBjPNKQuSYT"
      },
      "execution_count": null,
      "outputs": []
    },
    {
      "cell_type": "markdown",
      "source": [
        "**บทที่ 2 กระบวนการสร้างแบบลำลอง**"
      ],
      "metadata": {
        "id": "XESeYuUauYkr"
      }
    },
    {
      "cell_type": "code",
      "source": [
        "install.packages(\"dplyr\")\n",
        "install.packages(\"ggplot2\")\n",
        "install.packages(\"rsample\")\n",
        "install.packages(\"caret\")\n",
        "install.packages(\"h2o\")"
      ],
      "metadata": {
        "id": "dCndsO4QuVfj"
      },
      "execution_count": null,
      "outputs": []
    },
    {
      "cell_type": "code",
      "source": [
        "# Helper packages\n",
        "library(dplyr)     # for data manipulation\n",
        "library(ggplot2)   # for awesome graphics\n",
        "\n",
        "# Modeling process packages\n",
        "library(rsample)   # for resampling procedures\n",
        "library(caret)     # for resampling and model training\n",
        "library(h2o)       # for resampling and model training\n",
        "\n",
        "# h2o set-up\n",
        "h2o.no_progress()  # turn off h2o progress bars\n",
        "h2o.init()         # launch h2o"
      ],
      "metadata": {
        "id": "2oA0F15IuX4j"
      },
      "execution_count": null,
      "outputs": []
    },
    {
      "cell_type": "code",
      "source": [
        "floor(0.5)#ปัดลงตลอด"
      ],
      "metadata": {
        "id": "4Y1PBPZjuw86"
      },
      "execution_count": null,
      "outputs": []
    },
    {
      "cell_type": "code",
      "source": [
        "ceiling(0.5)#ปัดขึ้นตลอด"
      ],
      "metadata": {
        "id": "ykbHBx1Kuy96"
      },
      "execution_count": null,
      "outputs": []
    },
    {
      "cell_type": "code",
      "source": [
        "round(0.5)#ตามคณิต"
      ],
      "metadata": {
        "id": "0xv-kgsIu0ma"
      },
      "execution_count": null,
      "outputs": []
    },
    {
      "cell_type": "code",
      "source": [
        "# Ames housing data\n",
        "ames <- AmesHousing::make_ames()\n",
        "ames.h2o <- as.h2o(ames)\n",
        "\n",
        "# Job attrition data\n",
        "churn <- rsample::attrition %>%\n",
        "  mutate_if(is.ordered, .funs = factor, ordered = FALSE)\n",
        "churn.h2o <- as.h2o(churn)"
      ],
      "metadata": {
        "id": "rdtY8oMeu2Dz"
      },
      "execution_count": null,
      "outputs": []
    },
    {
      "cell_type": "code",
      "source": [
        "# Using base R\n",
        "set.seed(123)  # for reproducibility\n",
        "index_1 <- sample(1:nrow(ames), round(nrow(ames) * 0.7))\n",
        "train_1 <- ames[index_1, ]\n",
        "test_1  <- ames[-index_1, ]\n",
        "\n",
        "# Using caret package\n",
        "set.seed(123)  # for reproducibility\n",
        "index_2 <- createDataPartition(ames$Sale_Price, p = 0.7,\n",
        "                               list = FALSE)\n",
        "train_2 <- ames[index_2, ]\n",
        "test_2  <- ames[-index_2, ]\n",
        "\n",
        "# Using rsample package\n",
        "set.seed(123)  # for reproducibility\n",
        "split_1  <- initial_split(ames, prop = 0.7)\n",
        "train_3  <- training(split_1)\n",
        "test_3   <- testing(split_1)\n",
        "\n",
        "# Using h2o package\n",
        "split_2 <- h2o.splitFrame(ames.h2o, ratios = 0.7,\n",
        "                          seed = 123)\n",
        "train_4 <- split_2[[1]]\n",
        "test_4  <- split_2[[2]]"
      ],
      "metadata": {
        "id": "LT6Y5sTcu3_M"
      },
      "execution_count": null,
      "outputs": []
    }
  ],
  "metadata": {
    "accelerator": "GPU",
    "colab": {
      "provenance": [],
      "authorship_tag": "ABX9TyOaT3Nlq8dqxRTQPXMlx1BU",
      "include_colab_link": true
    },
    "kernelspec": {
      "display_name": "R",
      "name": "ir"
    },
    "language_info": {
      "name": "R"
    }
  },
  "nbformat": 4,
  "nbformat_minor": 0
}